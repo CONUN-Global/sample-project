{
  "nbformat": 4,
  "nbformat_minor": 0,
  "metadata": {
    "colab": {
      "name": "trafficCustomYoloDetectionTest.ipynb",
      "provenance": [],
      "collapsed_sections": []
    },
    "kernelspec": {
      "name": "python3",
      "display_name": "Python 3"
    },
    "language_info": {
      "name": "python"
    }
  },
  "cells": [
    {
      "cell_type": "code",
      "metadata": {
        "colab": {
          "base_uri": "https://localhost:8080/"
        },
        "id": "9c1Gg__809nR",
        "outputId": "dc6648f6-3d65-41c8-82bc-6bfbd1efa726"
      },
      "source": [
        "from google.colab import drive\n",
        "drive.mount('gdrive')"
      ],
      "execution_count": 1,
      "outputs": [
        {
          "output_type": "stream",
          "text": [
            "Mounted at gdrive\n"
          ],
          "name": "stdout"
        }
      ]
    },
    {
      "cell_type": "code",
      "metadata": {
        "id": "L6aTbkIq27T_"
      },
      "source": [
        "weight_file = ''\n",
        "cfg_file = ''\n",
        "name_file = ''\n",
        "\n",
        "min_confidence = 0.5"
      ],
      "execution_count": null,
      "outputs": []
    },
    {
      "cell_type": "code",
      "metadata": {
        "id": "TXDqQ-EE3t8l"
      },
      "source": [
        "import cv2\n",
        "import numpy as np\n",
        "from google.colab.patches import cv2_imshow\n",
        "import IPython\n",
        "import time"
      ],
      "execution_count": null,
      "outputs": []
    },
    {
      "cell_type": "code",
      "metadata": {
        "id": "TYrXj3Uu4FDF"
      },
      "source": [
        "frame_count = 0\n",
        "writer = None\n",
        "input_name = 'traffic.mp4'\n",
        "output_name = 'traffic.avi'\n",
        "file_name = '00000.ppm'"
      ],
      "execution_count": null,
      "outputs": []
    },
    {
      "cell_type": "code",
      "metadata": {
        "id": "c3xf_94I4Rp1"
      },
      "source": [
        "#load yolo\n",
        "net = cv2.dnn.readNet(weight_file, cfg_file)\n",
        "\n",
        "layer_names = net.getLayerNames()\n",
        "output_layers = [layer_name[i[0] - 1] for i in net.getUnconnectedOutLayers()]"
      ],
      "execution_count": null,
      "outputs": []
    },
    {
      "cell_type": "code",
      "metadata": {
        "id": "mKjRczMo4pdN"
      },
      "source": [
        "classes = []\n",
        "with open(name_file, 'r') as f:\n",
        "  classes = [line.strip() for line in f.readlines()]\n",
        "print(classes)"
      ],
      "execution_count": null,
      "outputs": []
    },
    {
      "cell_type": "code",
      "metadata": {
        "id": "jjQUfzVl46sM"
      },
      "source": [
        "img = cv2.imread(file_name)\n",
        "height, width, channels = img.shape\n",
        "\n",
        "blob = cv2.dnn.blobFromImage(img, 0.00392, (416,416), (0,0,0), True, crop=Fasle)\n",
        "\n",
        "net.setInput(blob)\n",
        "outs = net.forward(output_layers)\n",
        "\n",
        "class_ids = []\n",
        "confidences = []\n",
        "boxes = []\n",
        "\n",
        "for out in outs:\n",
        "  for detection in out:\n",
        "    scores = detection[5:]\n",
        "    class_id = np.argmax(scores)\n",
        "    confidence = scores[class_id]\n",
        "    if confidence > min_confidence:\n",
        "      #object detected\n",
        "      center_x = int(detection[0]*width)\n",
        "      center_y = int(detection[1]*height)\n",
        "      w = int(detection[2]*width)\n",
        "      h = int(detection[3]*height)\n",
        "\n",
        "      #rectangle coordinates\n",
        "      x = int(center_x - w / 2)\n",
        "      y = int(center_y - h / 2)\n",
        "\n",
        "      boxes.append([x, y, w, h])\n",
        "      confidences.append(float(confidence))\n",
        "      class_ids.append(class_id)\n",
        "\n",
        "indexes = cv2.dnn.NMSBoxes(boxes, confidences, min_confidence, 0.4)\n",
        "font = cv2.FONT_HERSHEY_COMLEX\n",
        "\n",
        "for i in range(len(boxes)):\n",
        "  if i in indexes:\n",
        "    x,y,w,h = boxes[i]\n",
        "    label = str(classes[class_ids[i]])\n",
        "    print(class_id[i], label)\n",
        "    cv2.rectangle(img, (x,y), (x+w, y+h), (0,255,0), 2)\n",
        "    cv2.putText(img, label, (x, y-10), font, 0.5, (0,255,0),1)\n",
        "\n",
        "cv2_imshow(img)"
      ],
      "execution_count": null,
      "outputs": []
    },
    {
      "cell_type": "code",
      "metadata": {
        "id": "Xd0IW8rn58mU"
      },
      "source": [
        "def writeFrame(img):\n",
        "  global writer\n",
        "  height, width = img.shape[:2]\n",
        "  if writer is None and output_name is not None:\n",
        "    fourcc = cv2.VideoWriter_fourcc(*'MJPG')\n",
        "    writer = cv2.VideoWriter(output_name, fourcc, 24, (width, height), True)\n",
        "  if writer is not None:\n",
        "    writer.write(img)"
      ],
      "execution_count": null,
      "outputs": []
    },
    {
      "cell_type": "code",
      "metadata": {
        "id": "ec1kTt-v-BUp"
      },
      "source": [
        "def detectAndDisplay(frame):\n",
        "  global frame_count\n",
        "  frame_count += 1\n",
        "  start_time = time.time()\n",
        "  IPython.display.clear_output(wait=True)\n",
        "  height, width, channels = frame.shape\n",
        "\n",
        "  blob = cv2.dnn.blobFromImage(img, 0.00392, (416,416), (0,0,0), True, crop=Fasle)\n",
        "\n",
        "  net.setInput(blob)\n",
        "  outs = net.forward(output_layers)\n",
        "\n",
        "  class_ids = []\n",
        "  confidences = []\n",
        "  boxes = []\n",
        "\n",
        "  for out in outs:\n",
        "    for detection in out:\n",
        "      scores = detection[5:]\n",
        "      class_id = np.argmax(scores)\n",
        "      confidence = scores[class_id]\n",
        "      if confidence > min_confidence:\n",
        "        #object detected\n",
        "        center_x = int(detection[0]*width)\n",
        "        center_y = int(detection[1]*height)\n",
        "        w = int(detection[2]*width)\n",
        "        h = int(detection[3]*height)\n",
        "\n",
        "        #rectangle coordinates\n",
        "        x = int(center_x - w / 2)\n",
        "        y = int(center_y - h / 2)\n",
        "\n",
        "        boxes.append([x, y, w, h])\n",
        "        confidences.append(float(confidence))\n",
        "        class_ids.append(class_id)\n",
        "\n",
        "  indexes = cv2.dnn.NMSBoxes(boxes, confidences, min_confidence, 0.4)\n",
        "  font = cv2.FONT_HERSHEY_COMLEX\n",
        "\n",
        "  for i in range(len(boxes)):\n",
        "    if i in indexes:\n",
        "      x,y,w,h = boxes[i]\n",
        "      label = str(classes[class_ids[i]])\n",
        "      \n",
        "      cv2.rectangle(img, (x,y), (x+w, y+h), (0,255,0), 2)\n",
        "      cv2.putText(img, label, (x, y+30), font, 0.5, (0,255,0),1)\n",
        "\n",
        "  frame_time = time.time() - start_time\n",
        "  print(\"Frame {} time {}\".format(frame_count, frame_time))\n",
        "  cv2_imshow(frame)\n",
        "  writeFrame(frame)\n"
      ],
      "execution_count": null,
      "outputs": []
    },
    {
      "cell_type": "code",
      "metadata": {
        "id": "UgTgCtfz_Ten"
      },
      "source": [
        "cap = cv2.VideoCapture(input_name)\n",
        "if not cap.isOpened:\n",
        "  print('--(!) Error opening video caputre')\n",
        "  exit(0)\n",
        "while True:\n",
        "  ret, frame = cap.read()\n",
        "  if frame is None:\n",
        "    print('--(!) No captured frame -- break')\n",
        "    break\n",
        "  detectAndDisplay(frame)"
      ],
      "execution_count": null,
      "outputs": []
    },
    {
      "cell_type": "code",
      "metadata": {
        "id": "R1ZtybC29wKq"
      },
      "source": [
        "from google.colab import files\n",
        "files.download(output_name)"
      ],
      "execution_count": null,
      "outputs": []
    }
  ]
}