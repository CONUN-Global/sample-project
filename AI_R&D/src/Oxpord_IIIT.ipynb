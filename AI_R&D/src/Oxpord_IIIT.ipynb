{
  "nbformat": 4,
  "nbformat_minor": 0,
  "metadata": {
    "colab": {
      "name": "Oxpord-IIIT.ipynb",
      "provenance": []
    },
    "kernelspec": {
      "name": "python3",
      "display_name": "Python 3"
    },
    "language_info": {
      "name": "python"
    }
  },
  "cells": [
    {
      "cell_type": "code",
      "metadata": {
        "id": "nl4B88POa76v",
        "colab": {
          "base_uri": "https://localhost:8080/"
        },
        "outputId": "7af6a335-4a51-465e-a055-42069551ceb6"
      },
      "source": [
        "#library import\n",
        "import tensorflow as tf\n",
        "from tensorflow import keras\n",
        "\n",
        "import os\n",
        "import re\n",
        "from PIL import Image\n",
        "import shutil\n",
        "import random\n",
        "\n",
        "import numpy as np\n",
        "import matplotlib.pyplot as plt\n",
        "import math\n",
        "\n",
        "print(tf.__version__)"
      ],
      "execution_count": 7,
      "outputs": [
        {
          "output_type": "stream",
          "text": [
            "2.4.1\n"
          ],
          "name": "stdout"
        }
      ]
    },
    {
      "cell_type": "code",
      "metadata": {
        "colab": {
          "base_uri": "https://localhost:8080/",
          "height": 107
        },
        "id": "pgenZLOPXIC6",
        "outputId": "4043c3a1-34db-4aa5-946f-e9cddc71ea3e"
      },
      "source": [
        "#sample data site : https://www.robots.ox.ac.uk/~vgg/data/pets/data/images.tar.gz\n",
        "#dataset download\n",
        "\n",
        "import gdown\n",
        "#url = 'https://www.robots.ox.ac.uk/~vgg/data/pets/data/'\n",
        "#filename = 'images.tar.gz'\n",
        "#gdown.download(url, filename, quiet=False)\n",
        "\n",
        "url = 'https://drive.google.com/uc?id=1dIR9ANjUsV9dWa0pS9J0c2KUGMfpIRG0'\n",
        "filename = 'oxford_pet.zip'\n",
        "gdown.download(url, filename, quiet=False)\n",
        "\n"
      ],
      "execution_count": 15,
      "outputs": [
        {
          "output_type": "stream",
          "text": [
            "Downloading...\n",
            "From: https://drive.google.com/uc?id=1dIR9ANjUsV9dWa0pS9J0c2KUGMfpIRG0\n",
            "To: /content/oxford_pet.zip\n",
            "811MB [00:07, 108MB/s]\n"
          ],
          "name": "stderr"
        },
        {
          "output_type": "execute_result",
          "data": {
            "application/vnd.google.colaboratory.intrinsic+json": {
              "type": "string"
            },
            "text/plain": [
              "'oxford_pet.zip'"
            ]
          },
          "metadata": {
            "tags": []
          },
          "execution_count": 15
        }
      ]
    },
    {
      "cell_type": "code",
      "metadata": {
        "colab": {
          "base_uri": "https://localhost:8080/"
        },
        "id": "ysCLE7SQX-np",
        "outputId": "3a6a3fc9-c9d0-445d-a37f-56858cbfd913"
      },
      "source": [
        "!ls -l"
      ],
      "execution_count": 16,
      "outputs": [
        {
          "output_type": "stream",
          "text": [
            "total 791576\n",
            "-rw-r--r-- 1 root root 810565619 Apr 29 07:14 oxford_pet.zip\n",
            "drwxr-xr-x 1 root root      4096 Apr 21 13:39 sample_data\n"
          ],
          "name": "stdout"
        }
      ]
    },
    {
      "cell_type": "code",
      "metadata": {
        "id": "-7TBv3j-YCgI"
      },
      "source": [
        "#압축풀기\n",
        "!unzip -q oxford_pet.zip -d oxford_pet"
      ],
      "execution_count": 17,
      "outputs": []
    },
    {
      "cell_type": "code",
      "metadata": {
        "colab": {
          "base_uri": "https://localhost:8080/"
        },
        "id": "V8oHMxAufG9z",
        "outputId": "5e52ceb4-511b-432e-f1e0-d5ae6dc466fe"
      },
      "source": [
        "#directory setting\n",
        "cur_dir = os.getcwd()\n",
        "data_dir = os.path.join(cur_dir, 'oxford_pet')\n",
        "image_dir = os.path.join(data_dir, 'images')\n",
        "\n",
        "print(data_dir, image_dir)"
      ],
      "execution_count": 23,
      "outputs": [
        {
          "output_type": "stream",
          "text": [
            "/content/oxford_pet /content/oxford_pet/images\n"
          ],
          "name": "stdout"
        }
      ]
    },
    {
      "cell_type": "code",
      "metadata": {
        "colab": {
          "base_uri": "https://localhost:8080/"
        },
        "id": "msrMwsPLgC1i",
        "outputId": "80908ada-9480-4f59-ae9e-40b7f5ccaa49"
      },
      "source": [
        "#image file count\n",
        "image_files = [filename for filename in os.listdir(image_dir) if os.path.splitext(filename)[-1] == '.jpg']\n",
        "\n",
        "print(len(image_files))"
      ],
      "execution_count": 28,
      "outputs": [
        {
          "output_type": "stream",
          "text": [
            "7390\n"
          ],
          "name": "stdout"
        }
      ]
    },
    {
      "cell_type": "code",
      "metadata": {
        "colab": {
          "base_uri": "https://localhost:8080/"
        },
        "id": "2qJtkb13hDAB",
        "outputId": "c27c08b6-ec06-47ac-a747-6106099d05f6"
      },
      "source": [
        "#image file을 읽어서 channel이 3이 아닌 image는 삭제함\n",
        "for image_file in image_files:\n",
        "  image_path = os.path.join(image_dir, image_file)\n",
        "  image = Image.open(image_path)\n",
        "  image_mode = image.mode\n",
        "  if image_mode != 'RGB':\n",
        "    print(image_file, image_mode)\n",
        "    image = np.asarray(image)\n",
        "    print(image.shape)\n",
        "    os.remove(image_path)"
      ],
      "execution_count": 30,
      "outputs": [
        {
          "output_type": "stream",
          "text": [
            "Egyptian_Mau_129.jpg L\n",
            "(325, 299)\n",
            "Egyptian_Mau_145.jpg P\n",
            "(188, 216)\n",
            "Egyptian_Mau_139.jpg P\n",
            "(250, 350)\n",
            "Abyssinian_34.jpg P\n",
            "(202, 250)\n",
            "Egyptian_Mau_14.jpg RGBA\n",
            "(800, 582, 4)\n",
            "Egyptian_Mau_177.jpg P\n",
            "(175, 246)\n",
            "Egyptian_Mau_186.jpg RGBA\n",
            "(275, 183, 4)\n",
            "staffordshire_bull_terrier_2.jpg L\n",
            "(282, 500)\n",
            "Abyssinian_5.jpg RGBA\n",
            "(150, 200, 4)\n",
            "Egyptian_Mau_167.jpg P\n",
            "(275, 183)\n",
            "Egyptian_Mau_191.jpg P\n",
            "(214, 300)\n",
            "staffordshire_bull_terrier_22.jpg L\n",
            "(500, 364)\n"
          ],
          "name": "stdout"
        }
      ]
    },
    {
      "cell_type": "code",
      "metadata": {
        "colab": {
          "base_uri": "https://localhost:8080/"
        },
        "id": "kYfQbN9Lh-lR",
        "outputId": "f97bba4c-706f-4726-dcff-f4dc0ed0a29d"
      },
      "source": [
        "image_files = [filename for filename in os.listdir(image_dir) if os.path.splitext(filename)[-1] == '.jpg']\n",
        "\n",
        "print(len(image_files))"
      ],
      "execution_count": 31,
      "outputs": [
        {
          "output_type": "stream",
          "text": [
            "7378\n"
          ],
          "name": "stdout"
        }
      ]
    },
    {
      "cell_type": "code",
      "metadata": {
        "colab": {
          "base_uri": "https://localhost:8080/"
        },
        "id": "4yCpjAqNiQzQ",
        "outputId": "d76e7b9c-68b1-44dc-e02d-1deb2a152b87"
      },
      "source": [
        "image_files[:10]"
      ],
      "execution_count": 32,
      "outputs": [
        {
          "output_type": "execute_result",
          "data": {
            "text/plain": [
              "['english_cocker_spaniel_4.jpg',\n",
              " 'pug_163.jpg',\n",
              " 'american_bulldog_152.jpg',\n",
              " 'newfoundland_107.jpg',\n",
              " 'leonberger_197.jpg',\n",
              " 'pug_149.jpg',\n",
              " 'Ragdoll_27.jpg',\n",
              " 'leonberger_20.jpg',\n",
              " 'pug_12.jpg',\n",
              " 'beagle_59.jpg']"
            ]
          },
          "metadata": {
            "tags": []
          },
          "execution_count": 32
        }
      ]
    },
    {
      "cell_type": "code",
      "metadata": {
        "colab": {
          "base_uri": "https://localhost:8080/"
        },
        "id": "dDZjPUxJiX2n",
        "outputId": "3e13f66c-98b3-41da-b67c-b8d244fda3f8"
      },
      "source": [
        "class_list = set()\n",
        "for image_file in image_files:\n",
        "  file_name = os.path.splitext(image_file)[0]\n",
        "  class_name = re.sub('_\\d+', '', file_name)\n",
        "  class_list.add(class_name)\n",
        "class_list = list(class_list)\n",
        "print(len(class_list))\n",
        "\n",
        "class_list.sort()\n",
        "class_list"
      ],
      "execution_count": 34,
      "outputs": [
        {
          "output_type": "stream",
          "text": [
            "37\n"
          ],
          "name": "stdout"
        },
        {
          "output_type": "execute_result",
          "data": {
            "text/plain": [
              "['Abyssinian',\n",
              " 'Bengal',\n",
              " 'Birman',\n",
              " 'Bombay',\n",
              " 'British_Shorthair',\n",
              " 'Egyptian_Mau',\n",
              " 'Maine_Coon',\n",
              " 'Persian',\n",
              " 'Ragdoll',\n",
              " 'Russian_Blue',\n",
              " 'Siamese',\n",
              " 'Sphynx',\n",
              " 'american_bulldog',\n",
              " 'american_pit_bull_terrier',\n",
              " 'basset_hound',\n",
              " 'beagle',\n",
              " 'boxer',\n",
              " 'chihuahua',\n",
              " 'english_cocker_spaniel',\n",
              " 'english_setter',\n",
              " 'german_shorthaired',\n",
              " 'great_pyrenees',\n",
              " 'havanese',\n",
              " 'japanese_chin',\n",
              " 'keeshond',\n",
              " 'leonberger',\n",
              " 'miniature_pinscher',\n",
              " 'newfoundland',\n",
              " 'pomeranian',\n",
              " 'pug',\n",
              " 'saint_bernard',\n",
              " 'samoyed',\n",
              " 'scottish_terrier',\n",
              " 'shiba_inu',\n",
              " 'staffordshire_bull_terrier',\n",
              " 'wheaten_terrier',\n",
              " 'yorkshire_terrier']"
            ]
          },
          "metadata": {
            "tags": []
          },
          "execution_count": 34
        }
      ]
    },
    {
      "cell_type": "code",
      "metadata": {
        "colab": {
          "base_uri": "https://localhost:8080/"
        },
        "id": "hCCDp8Ybjybm",
        "outputId": "3969d557-0bcb-4094-dcb4-e086201ad040"
      },
      "source": [
        "class_list[1]\n",
        "\n",
        "class2idx = {cls:idx for idx, cls in enumerate(class_list)}\n",
        "class2idx"
      ],
      "execution_count": 38,
      "outputs": [
        {
          "output_type": "execute_result",
          "data": {
            "text/plain": [
              "{'Abyssinian': 0,\n",
              " 'Bengal': 1,\n",
              " 'Birman': 2,\n",
              " 'Bombay': 3,\n",
              " 'British_Shorthair': 4,\n",
              " 'Egyptian_Mau': 5,\n",
              " 'Maine_Coon': 6,\n",
              " 'Persian': 7,\n",
              " 'Ragdoll': 8,\n",
              " 'Russian_Blue': 9,\n",
              " 'Siamese': 10,\n",
              " 'Sphynx': 11,\n",
              " 'american_bulldog': 12,\n",
              " 'american_pit_bull_terrier': 13,\n",
              " 'basset_hound': 14,\n",
              " 'beagle': 15,\n",
              " 'boxer': 16,\n",
              " 'chihuahua': 17,\n",
              " 'english_cocker_spaniel': 18,\n",
              " 'english_setter': 19,\n",
              " 'german_shorthaired': 20,\n",
              " 'great_pyrenees': 21,\n",
              " 'havanese': 22,\n",
              " 'japanese_chin': 23,\n",
              " 'keeshond': 24,\n",
              " 'leonberger': 25,\n",
              " 'miniature_pinscher': 26,\n",
              " 'newfoundland': 27,\n",
              " 'pomeranian': 28,\n",
              " 'pug': 29,\n",
              " 'saint_bernard': 30,\n",
              " 'samoyed': 31,\n",
              " 'scottish_terrier': 32,\n",
              " 'shiba_inu': 33,\n",
              " 'staffordshire_bull_terrier': 34,\n",
              " 'wheaten_terrier': 35,\n",
              " 'yorkshire_terrier': 36}"
            ]
          },
          "metadata": {
            "tags": []
          },
          "execution_count": 38
        }
      ]
    },
    {
      "cell_type": "code",
      "metadata": {
        "colab": {
          "base_uri": "https://localhost:8080/"
        },
        "id": "-lkrhqvnkbDO",
        "outputId": "4bdc7305-208b-4911-9f59-b0ad2d9a43c7"
      },
      "source": [
        "class2idx['Bengal']"
      ],
      "execution_count": 39,
      "outputs": [
        {
          "output_type": "execute_result",
          "data": {
            "text/plain": [
              "1"
            ]
          },
          "metadata": {
            "tags": []
          },
          "execution_count": 39
        }
      ]
    },
    {
      "cell_type": "code",
      "metadata": {
        "colab": {
          "base_uri": "https://localhost:8080/"
        },
        "id": "BCKQp4wMker-",
        "outputId": "757da231-5933-4582-c5e7-5a6c19ff7f23"
      },
      "source": [
        "train_dir = os.path.join(data_dir, 'train')\n",
        "val_dir = os.path.join(data_dir, 'validation')\n",
        "os.makedirs(train_dir, exist_ok=True)\n",
        "os.makedirs(val_dir, exist_ok=True)\n",
        "\n",
        "image_files.sort()\n",
        "\n",
        "image_files[:10]"
      ],
      "execution_count": 40,
      "outputs": [
        {
          "output_type": "execute_result",
          "data": {
            "text/plain": [
              "['Abyssinian_1.jpg',\n",
              " 'Abyssinian_10.jpg',\n",
              " 'Abyssinian_100.jpg',\n",
              " 'Abyssinian_101.jpg',\n",
              " 'Abyssinian_102.jpg',\n",
              " 'Abyssinian_103.jpg',\n",
              " 'Abyssinian_104.jpg',\n",
              " 'Abyssinian_105.jpg',\n",
              " 'Abyssinian_106.jpg',\n",
              " 'Abyssinian_107.jpg']"
            ]
          },
          "metadata": {
            "tags": []
          },
          "execution_count": 40
        }
      ]
    },
    {
      "cell_type": "code",
      "metadata": {
        "id": "jrn6wN4glePV"
      },
      "source": [
        "#train data, validation data\n",
        "cnt = 0\n",
        "previous_class = \"\"\n",
        "\n",
        "for image_file in image_files:\n",
        "  file_name = os.path.splitext(image_file)[0]\n",
        "  class_name = re.sub('_\\d+', '', file_name)\n",
        "  if class_name == previous_class:\n",
        "    cnt += 1\n",
        "  else:\n",
        "    cnt = 1\n",
        "  if cnt <= 160:\n",
        "    cpath = train_dir\n",
        "  else:\n",
        "    cpath = val_dir\n",
        "  \n",
        "  image_path = os.path.join(image_dir, image_file)\n",
        "  shutil.copy(image_path, cpath)\n",
        "  previous_class = class_name"
      ],
      "execution_count": 41,
      "outputs": []
    },
    {
      "cell_type": "code",
      "metadata": {
        "id": "b4-6s3vlm8eM"
      },
      "source": [
        "train_image = os.listdir(train_dir)\n",
        "val_image = os.listdir(val_dir)"
      ],
      "execution_count": 42,
      "outputs": []
    },
    {
      "cell_type": "code",
      "metadata": {
        "colab": {
          "base_uri": "https://localhost:8080/"
        },
        "id": "m2xtYoksnIuj",
        "outputId": "4d1ed0e7-8f38-469e-c3a6-732693054f93"
      },
      "source": [
        "train_image[:10]"
      ],
      "execution_count": 43,
      "outputs": [
        {
          "output_type": "execute_result",
          "data": {
            "text/plain": [
              "['english_cocker_spaniel_4.jpg',\n",
              " 'pug_163.jpg',\n",
              " 'american_bulldog_152.jpg',\n",
              " 'newfoundland_107.jpg',\n",
              " 'leonberger_197.jpg',\n",
              " 'pug_149.jpg',\n",
              " 'Ragdoll_27.jpg',\n",
              " 'leonberger_20.jpg',\n",
              " 'pug_12.jpg',\n",
              " 'beagle_59.jpg']"
            ]
          },
          "metadata": {
            "tags": []
          },
          "execution_count": 43
        }
      ]
    },
    {
      "cell_type": "code",
      "metadata": {
        "colab": {
          "base_uri": "https://localhost:8080/"
        },
        "id": "Y8H4vglPnMND",
        "outputId": "b5a8b3e7-48c3-4afb-eb09-f1bbefcb833d"
      },
      "source": [
        "val_image[:10]"
      ],
      "execution_count": 44,
      "outputs": [
        {
          "output_type": "execute_result",
          "data": {
            "text/plain": [
              "['keeshond_88.jpg',\n",
              " 'staffordshire_bull_terrier_93.jpg',\n",
              " 'pomeranian_89.jpg',\n",
              " 'english_setter_89.jpg',\n",
              " 'Persian_60.jpg',\n",
              " 'newfoundland_90.jpg',\n",
              " 'British_Shorthair_94.jpg',\n",
              " 'scottish_terrier_81.jpg',\n",
              " 'german_shorthaired_72.jpg',\n",
              " 'american_bulldog_63.jpg']"
            ]
          },
          "metadata": {
            "tags": []
          },
          "execution_count": 44
        }
      ]
    },
    {
      "cell_type": "code",
      "metadata": {
        "id": "fNX8Du_BneiL"
      },
      "source": [
        "IMG_SIZE = 224"
      ],
      "execution_count": null,
      "outputs": []
    },
    {
      "cell_type": "code",
      "metadata": {
        "id": "nPcbAHFnoGnS"
      },
      "source": [
        "#TFRcord 저장할 directory와 file 경로 설정\n",
        "tfr_dir = os.path.join(data_dir, 'tfrecord')\n",
        "os.makedirs(tfr_dir, exist_ok=True)\n",
        "\n",
        "tfr_train_dir = os.path.join(tfr_dir, 'cls_train.tfr')\n",
        "tfr_val_dir = os.path.join(tfr_dir, 'cls_val.tfr')"
      ],
      "execution_count": 45,
      "outputs": []
    },
    {
      "cell_type": "code",
      "metadata": {
        "id": "AmpsriYoozuC"
      },
      "source": [
        "#TFRcord writer create\n",
        "writer_train = tf.io.TFRecordWriter(tfr_train_dir)\n",
        "writer_val = tf.io.TFRecordWriter(tfr_val_dir)"
      ],
      "execution_count": 46,
      "outputs": []
    },
    {
      "cell_type": "code",
      "metadata": {
        "id": "8iQzGiGkoE_6"
      },
      "source": [
        "#https://www.tensorflow.org/tutorials/load_data/tfrecord?hl=ko\n",
        "# The following functions can be used to convert a value to a type compatible\n",
        "# with tf.train.Example.\n",
        "\n",
        "def _bytes_feature(value):\n",
        "  \"\"\"Returns a bytes_list from a string / byte.\"\"\"\n",
        "  if isinstance(value, type(tf.constant(0))):\n",
        "    value = value.numpy() # BytesList won't unpack a string from an EagerTensor.\n",
        "  return tf.train.Feature(bytes_list=tf.train.BytesList(value=[value]))\n",
        "\n",
        "def _float_feature(value):\n",
        "  \"\"\"Returns a float_list from a float / double.\"\"\"\n",
        "  return tf.train.Feature(float_list=tf.train.FloatList(value=[value]))\n",
        "\n",
        "def _int64_feature(value):\n",
        "  \"\"\"Returns an int64_list from a bool / enum / int / uint.\"\"\"\n",
        "  return tf.train.Feature(int64_list=tf.train.Int64List(value=[value]))"
      ],
      "execution_count": 47,
      "outputs": []
    },
    {
      "cell_type": "code",
      "metadata": {
        "id": "6wJh1gTrpPXR"
      },
      "source": [
        ""
      ],
      "execution_count": null,
      "outputs": []
    },
    {
      "cell_type": "code",
      "metadata": {
        "id": "W_Je--S4U3Kl"
      },
      "source": [
        "\n",
        "from tensorflow import keras\n",
        "keras.layers.Conv2D(10, kernel_size=(3,3), activation='relu')\n",
        "\n",
        "#padding\n",
        "#입력 과 특성맵의 차원을 동일하게하고, same padding\n",
        "\n",
        "keras.layers.Conv2D(10, kernel_size=(3,3), activation='relu', padding='same')\n",
        "\n",
        "#stride는 겹치면서 한다\n",
        "#이동하는 크기\n",
        "keras.layers.Conv2D(10, kernel_size=(3,3), activation='relu', padding='same', strides=1)\n",
        "\n",
        "#pooling은 겹치지 않는다.\n",
        "#평균/최대 풀링을 많이 사용함\n",
        "keras.layers.MaxPooling2D(2, strides=2, padding='same')\n"
      ],
      "execution_count": null,
      "outputs": []
    }
  ]
}